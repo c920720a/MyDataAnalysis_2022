{
 "cells": [
  {
   "cell_type": "markdown",
   "id": "ee504320",
   "metadata": {
    "papermill": {
     "duration": 0.006411,
     "end_time": "2022-08-20T04:40:55.978161",
     "exception": false,
     "start_time": "2022-08-20T04:40:55.971750",
     "status": "completed"
    },
    "tags": []
   },
   "source": [
    "## **CATBOOST**\n",
    "* CatBoost는 Categorical Boosting으로 범주형 feature를 처리하는데 중점을 둔 알고리즘이다.\n",
    "* Yandex에 의해 개발되었고, Gradient Boosting에 기반한다.\n",
    "  * XGBoost(2014) - LightGBM (2017/01) - CatBoost (2017/04)\n",
    "* 기존에 존재하던 boosting 모델인 XGBoost, Light GBM을 능가하는 머신러닝 기법이다."
   ]
  },
  {
   "cell_type": "markdown",
   "id": "04c40a64",
   "metadata": {
    "papermill": {
     "duration": 0.004249,
     "end_time": "2022-08-20T04:40:55.988214",
     "exception": false,
     "start_time": "2022-08-20T04:40:55.983965",
     "status": "completed"
    },
    "tags": []
   },
   "source": [
    "#### 범주형 변수의 타깃 인코딩\n",
    "* 범주형 변수로서 지정한 특징을 자동으로 타깃 인코딩하여 수치로 변환한다.\n",
    "* 어떤 분기에서 범주형 변수가 사용되었을 때 그 범주형 변수와 다른 범주형 변수와의 조합에 대해 타깃 인코딩 연산이 이루어지며 그보다 깊은 분기에서 그 결과가 사용된다.\n",
    "\n",
    "#### 망각 결정 트리\n",
    "* 각 깊이별 분기 조건식이 모두 망각 결정 트리 oblivious decision tree라 불리는 결정 트리를 사용한다.\n",
    "\n",
    "#### 정렬 부스팅\n",
    "* 데이터 수가 적을 때는 정렬 부스팅 ordered boosting이라는 알고리즘이 사용된다. 속도는 느리지만 데이터 수가 적을 때는 모델 성능이 높다고 한다.\n"
   ]
  },
  {
   "cell_type": "markdown",
   "id": "9c6031c2",
   "metadata": {
    "papermill": {
     "duration": 0.004124,
     "end_time": "2022-08-20T04:40:55.996858",
     "exception": false,
     "start_time": "2022-08-20T04:40:55.992734",
     "status": "completed"
    },
    "tags": []
   },
   "source": [
    "#### **장점**\n",
    "* 기존의 GBM기반 알고리즘은 이전 데이터를 반복적으로 쓰는 과정에서 타깃 누수(target leakage)와 예측 결과 변화 문제를 일으키고 범주형 변수를 수치형 변수로 전처리 해준 후 일일이 훈련해줘야 한다는 문제가 있다. CatBoost는 Ordered boosting과 새로운 범주형 변수 처리 방법으로 이를 해결한다.\n",
    "* 기존의 XGBoost와 같은 부스팅은 오래걸리며 하이퍼 파라미터 튜닝에 매우 민감하다. CatBoost는 파라미터 튜닝에 큰 신경을 쓰지 않아도 되고, 학습 속도도 상대적으로 빠르다.\n",
    "\n",
    "#### **한계점**\n",
    "* CatBoost는 밀도가 넓고 드문 Sparse한 matrix는 처리하지 못 한다.\n",
    "* 데이터 대부분이 수치형인 경우 Light GBM보다 학습 속도가 느리다.\n",
    "* 때문에 가급적 범주형 변수인 경우 사용하는 것이 좋다.\n",
    "\n",
    "##### [출처]\n",
    "    * 데이터가 뛰어노는 AI 놀이터, 캐글\n",
    "    * https://blog.naver.com/remedies/222455892119\n",
    "    * Ensemble Learning - CatBoost https://youtu.be/2Yi_Jse_7JQ"
   ]
  },
  {
   "cell_type": "markdown",
   "id": "108dae45",
   "metadata": {
    "papermill": {
     "duration": 0.00409,
     "end_time": "2022-08-20T04:40:56.005516",
     "exception": false,
     "start_time": "2022-08-20T04:40:56.001426",
     "status": "completed"
    },
    "tags": []
   },
   "source": [
    "### EDA를 통해 알게 된 정보\n",
    "* 월별 고객 프로필을 기반으로 향후 신용카드 청구액(사용액)을 갚지 않을 확률을 예측하는 것.\n",
    "* 최근 신용카드 명세서 이후 18개월 실척을 관찰하여 target값이 계산되며 고객이 가장 최근 명세서 날짜 이후 120일 동안 미납 금액을 지불하지 않으면 기본 이벤트로 간주함. (target=1)\n",
    "##### 　　\n",
    "* 일반 범주 ============================================================\n",
    "   * D_* = 연체 변수\n",
    "   * S_* = 지출 변수\n",
    "   * P_* = 지불 변수\n",
    "   * B_* = 균형 변수\n",
    "   * R_* = 위험 변수\n",
    "* 기능이 익명화되고 정규화됨. Features are anonymized and normalized\n",
    "##### 　　\n",
    "* categorical 범주형 범주 ====================================\n",
    "* ['B_30', 'B_38', 'D_114', 'D_116', 'D_117', 'D_120', 'D_126', 'D_63', 'D_64', 'D_66', 'D_68']\n",
    "##### 　　\n",
    "* S_2: contains a timestamp 시계열 데이터\n",
    "* 각각 customer_ID에 대해 향후 지불 불이행 가능성(target = 1)을 예측하는 것\n",
    "* train_data와 train_labers, test_data, submission 파일로 이루어짐.\n",
    "* negative class(target=0)에 대한 언더샘플링도 되어있다.\n",
    "* 단, 데이터의 크기(50.31 GB)가 크다. train_data.csv(16.39 GB), test_data.csv(33.82 GB)이다.\n",
    "##### 　　\n",
    "* 5,531,451개의 열\n",
    "* 191개의 feature값\n",
    "* 178개의 cloumns\n",
    "* 1개의 datetime columns, 2017-03-01 부터 2018-03-31 까지의 데이터\n",
    "* 고유 고객의 수는 458,913명이다.\n",
    "* database에 있는 시간이 짧은 고객이 이탈할 가능성이 더 높다.\n",
    "##### 　　\n",
    "* missing data\n",
    "![\"Amount of missing data\"](https://www.kaggleusercontent.com/kf/103657817/eyJhbGciOiJkaXIiLCJlbmMiOiJBMTI4Q0JDLUhTMjU2In0..05smRKS28MeaDhM48uoWjw.R3gmy634aVPTidhfmzYcCKHzJkcht8UbW-P_Ec62abgB1GIEDPQ-Loj2eLjTYqsn_H7A9-bcE2Nxvp66XYnXoOlaX-uTFnCqcIHVl9YVHBGwXyJ_fgvTVlFzp_OBqnENea7t6tCUyGD3SFelhI6c_WfSvLDFIf7lTzfhdMetHXZrDsixXBog8f4wWlqjj0DOwaC4DJMZ0B756m9krC0wqN4UhQmsfm3ViEjJmQHaQ9wBhZk6oYMKGaJD_QnfpZ7-r7Zr2ZKQZspOsAHiPxuXmg5cL3tkO4spVdkxi4gxOvkt7s6cNBHcLyonxANkPXUbRDHqWYDU8WFrZHqFAVLxQ5wOMv_aT0LHBcaxC1Nf3HgKwOagkTTOopTMsmf_QmMY9eqRUKs61DdydqTrrSSiIG-u-rJ99I4TUyq4Uzb7csm1bJW5BAWbg4RyYDno7W8v5Ub2W965E5oDS260JDorEzQSptt90hhgyqgxnb42ew3K5ftVj9Zzy_HohUI1XH-q71fhlTAhc3rE02z0c5WS3NP1EybPLt2XyCUgRhbfWe0BJLdTJShRZmZmZA-nz66eod6PygEw5Cv4F-nY4jTqcdKpR5PSv-e6xBEOxhXsggDq1zTi2sVuCFg9OXFDT9Q-wIVysYvN0j2u17KRt3La6PAkE2iGUDwCQOtw9U7x2RY.RECn5jBttxx3GCIOm2rl6A/__results___files/__results___35_0.png)"
   ]
  },
  {
   "cell_type": "markdown",
   "id": "07fce72a",
   "metadata": {
    "papermill": {
     "duration": 0.004128,
     "end_time": "2022-08-20T04:40:56.014116",
     "exception": false,
     "start_time": "2022-08-20T04:40:56.009988",
     "status": "completed"
    },
    "tags": []
   },
   "source": [
    "### 01. 라이브러리 불러오기"
   ]
  },
  {
   "cell_type": "code",
   "execution_count": 1,
   "id": "e4f29807",
   "metadata": {
    "execution": {
     "iopub.execute_input": "2022-08-20T04:40:56.025448Z",
     "iopub.status.busy": "2022-08-20T04:40:56.024663Z",
     "iopub.status.idle": "2022-08-20T04:40:57.133868Z",
     "shell.execute_reply": "2022-08-20T04:40:57.132673Z"
    },
    "papermill": {
     "duration": 1.118325,
     "end_time": "2022-08-20T04:40:57.136875",
     "exception": false,
     "start_time": "2022-08-20T04:40:56.018550",
     "status": "completed"
    },
    "tags": []
   },
   "outputs": [],
   "source": [
    "import os\n",
    "import pandas as pd\n",
    "import numpy as np\n",
    "import gc\n",
    "\n",
    "from sklearn.model_selection import train_test_split\n",
    "from sklearn.metrics import accuracy_score"
   ]
  },
  {
   "cell_type": "markdown",
   "id": "0cafb8a4",
   "metadata": {
    "papermill": {
     "duration": 0.004229,
     "end_time": "2022-08-20T04:40:57.145710",
     "exception": false,
     "start_time": "2022-08-20T04:40:57.141481",
     "status": "completed"
    },
    "tags": []
   },
   "source": [
    "### 02. 데이터 불러오기"
   ]
  },
  {
   "cell_type": "code",
   "execution_count": 2,
   "id": "10ca5801",
   "metadata": {
    "execution": {
     "iopub.execute_input": "2022-08-20T04:40:57.156378Z",
     "iopub.status.busy": "2022-08-20T04:40:57.155709Z",
     "iopub.status.idle": "2022-08-20T04:41:15.882786Z",
     "shell.execute_reply": "2022-08-20T04:41:15.881385Z"
    },
    "papermill": {
     "duration": 18.736944,
     "end_time": "2022-08-20T04:41:15.886960",
     "exception": false,
     "start_time": "2022-08-20T04:40:57.150016",
     "status": "completed"
    },
    "tags": []
   },
   "outputs": [
    {
     "name": "stdout",
     "output_type": "stream",
     "text": [
      "CPU times: user 9.72 s, sys: 8.79 s, total: 18.5 s\n",
      "Wall time: 18.7 s\n"
     ]
    }
   ],
   "source": [
    "%%time\n",
    "train = pd.read_parquet(\"/kaggle/input/amex-data-integer-dtypes-parquet-format/train.parquet\")"
   ]
  },
  {
   "cell_type": "code",
   "execution_count": 3,
   "id": "8dbe2122",
   "metadata": {
    "execution": {
     "iopub.execute_input": "2022-08-20T04:41:15.899517Z",
     "iopub.status.busy": "2022-08-20T04:41:15.898284Z",
     "iopub.status.idle": "2022-08-20T04:41:16.865339Z",
     "shell.execute_reply": "2022-08-20T04:41:16.864058Z"
    },
    "papermill": {
     "duration": 0.976263,
     "end_time": "2022-08-20T04:41:16.868184",
     "exception": false,
     "start_time": "2022-08-20T04:41:15.891921",
     "status": "completed"
    },
    "tags": []
   },
   "outputs": [
    {
     "name": "stdout",
     "output_type": "stream",
     "text": [
      "CPU times: user 516 ms, sys: 262 ms, total: 778 ms\n",
      "Wall time: 957 ms\n"
     ]
    }
   ],
   "source": [
    "%%time\n",
    "labels = pd.read_csv(\"/kaggle/input/amex-default-prediction/train_labels.csv\")"
   ]
  },
  {
   "cell_type": "code",
   "execution_count": 4,
   "id": "b4a43a01",
   "metadata": {
    "execution": {
     "iopub.execute_input": "2022-08-20T04:41:16.889663Z",
     "iopub.status.busy": "2022-08-20T04:41:16.880686Z",
     "iopub.status.idle": "2022-08-20T04:41:16.925672Z",
     "shell.execute_reply": "2022-08-20T04:41:16.924365Z"
    },
    "papermill": {
     "duration": 0.054419,
     "end_time": "2022-08-20T04:41:16.928580",
     "exception": false,
     "start_time": "2022-08-20T04:41:16.874161",
     "status": "completed"
    },
    "tags": []
   },
   "outputs": [
    {
     "data": {
      "text/html": [
       "<div>\n",
       "<style scoped>\n",
       "    .dataframe tbody tr th:only-of-type {\n",
       "        vertical-align: middle;\n",
       "    }\n",
       "\n",
       "    .dataframe tbody tr th {\n",
       "        vertical-align: top;\n",
       "    }\n",
       "\n",
       "    .dataframe thead th {\n",
       "        text-align: right;\n",
       "    }\n",
       "</style>\n",
       "<table border=\"1\" class=\"dataframe\">\n",
       "  <thead>\n",
       "    <tr style=\"text-align: right;\">\n",
       "      <th></th>\n",
       "      <th>customer_ID</th>\n",
       "      <th>S_2</th>\n",
       "      <th>P_2</th>\n",
       "      <th>D_39</th>\n",
       "      <th>B_1</th>\n",
       "      <th>B_2</th>\n",
       "      <th>R_1</th>\n",
       "      <th>S_3</th>\n",
       "      <th>D_41</th>\n",
       "      <th>B_3</th>\n",
       "      <th>...</th>\n",
       "      <th>D_136</th>\n",
       "      <th>D_137</th>\n",
       "      <th>D_138</th>\n",
       "      <th>D_139</th>\n",
       "      <th>D_140</th>\n",
       "      <th>D_141</th>\n",
       "      <th>D_142</th>\n",
       "      <th>D_143</th>\n",
       "      <th>D_144</th>\n",
       "      <th>D_145</th>\n",
       "    </tr>\n",
       "  </thead>\n",
       "  <tbody>\n",
       "    <tr>\n",
       "      <th>0</th>\n",
       "      <td>0000099d6bd597052cdcda90ffabf56573fe9d7c79be5f...</td>\n",
       "      <td>2017-03-09</td>\n",
       "      <td>0.938469</td>\n",
       "      <td>0</td>\n",
       "      <td>0.008724</td>\n",
       "      <td>1.006838</td>\n",
       "      <td>0.009228</td>\n",
       "      <td>0.124035</td>\n",
       "      <td>0.0</td>\n",
       "      <td>0.004709</td>\n",
       "      <td>...</td>\n",
       "      <td>-1</td>\n",
       "      <td>-1</td>\n",
       "      <td>-1</td>\n",
       "      <td>0</td>\n",
       "      <td>0</td>\n",
       "      <td>0.0</td>\n",
       "      <td>NaN</td>\n",
       "      <td>0</td>\n",
       "      <td>0.000610</td>\n",
       "      <td>0</td>\n",
       "    </tr>\n",
       "    <tr>\n",
       "      <th>1</th>\n",
       "      <td>0000099d6bd597052cdcda90ffabf56573fe9d7c79be5f...</td>\n",
       "      <td>2017-04-07</td>\n",
       "      <td>0.936665</td>\n",
       "      <td>0</td>\n",
       "      <td>0.004923</td>\n",
       "      <td>1.000653</td>\n",
       "      <td>0.006151</td>\n",
       "      <td>0.126750</td>\n",
       "      <td>0.0</td>\n",
       "      <td>0.002714</td>\n",
       "      <td>...</td>\n",
       "      <td>-1</td>\n",
       "      <td>-1</td>\n",
       "      <td>-1</td>\n",
       "      <td>0</td>\n",
       "      <td>0</td>\n",
       "      <td>0.0</td>\n",
       "      <td>NaN</td>\n",
       "      <td>0</td>\n",
       "      <td>0.005492</td>\n",
       "      <td>0</td>\n",
       "    </tr>\n",
       "    <tr>\n",
       "      <th>2</th>\n",
       "      <td>0000099d6bd597052cdcda90ffabf56573fe9d7c79be5f...</td>\n",
       "      <td>2017-05-28</td>\n",
       "      <td>0.954180</td>\n",
       "      <td>3</td>\n",
       "      <td>0.021655</td>\n",
       "      <td>1.009672</td>\n",
       "      <td>0.006815</td>\n",
       "      <td>0.123977</td>\n",
       "      <td>0.0</td>\n",
       "      <td>0.009423</td>\n",
       "      <td>...</td>\n",
       "      <td>-1</td>\n",
       "      <td>-1</td>\n",
       "      <td>-1</td>\n",
       "      <td>0</td>\n",
       "      <td>0</td>\n",
       "      <td>0.0</td>\n",
       "      <td>NaN</td>\n",
       "      <td>0</td>\n",
       "      <td>0.006986</td>\n",
       "      <td>0</td>\n",
       "    </tr>\n",
       "    <tr>\n",
       "      <th>3</th>\n",
       "      <td>0000099d6bd597052cdcda90ffabf56573fe9d7c79be5f...</td>\n",
       "      <td>2017-06-13</td>\n",
       "      <td>0.960384</td>\n",
       "      <td>0</td>\n",
       "      <td>0.013683</td>\n",
       "      <td>1.002700</td>\n",
       "      <td>0.001373</td>\n",
       "      <td>0.117169</td>\n",
       "      <td>0.0</td>\n",
       "      <td>0.005531</td>\n",
       "      <td>...</td>\n",
       "      <td>-1</td>\n",
       "      <td>-1</td>\n",
       "      <td>-1</td>\n",
       "      <td>0</td>\n",
       "      <td>0</td>\n",
       "      <td>0.0</td>\n",
       "      <td>NaN</td>\n",
       "      <td>0</td>\n",
       "      <td>0.006527</td>\n",
       "      <td>0</td>\n",
       "    </tr>\n",
       "    <tr>\n",
       "      <th>4</th>\n",
       "      <td>0000099d6bd597052cdcda90ffabf56573fe9d7c79be5f...</td>\n",
       "      <td>2017-07-16</td>\n",
       "      <td>0.947248</td>\n",
       "      <td>0</td>\n",
       "      <td>0.015193</td>\n",
       "      <td>1.000727</td>\n",
       "      <td>0.007605</td>\n",
       "      <td>0.117325</td>\n",
       "      <td>0.0</td>\n",
       "      <td>0.009312</td>\n",
       "      <td>...</td>\n",
       "      <td>-1</td>\n",
       "      <td>-1</td>\n",
       "      <td>-1</td>\n",
       "      <td>0</td>\n",
       "      <td>0</td>\n",
       "      <td>0.0</td>\n",
       "      <td>NaN</td>\n",
       "      <td>0</td>\n",
       "      <td>0.008126</td>\n",
       "      <td>0</td>\n",
       "    </tr>\n",
       "  </tbody>\n",
       "</table>\n",
       "<p>5 rows × 190 columns</p>\n",
       "</div>"
      ],
      "text/plain": [
       "                                         customer_ID         S_2       P_2  \\\n",
       "0  0000099d6bd597052cdcda90ffabf56573fe9d7c79be5f...  2017-03-09  0.938469   \n",
       "1  0000099d6bd597052cdcda90ffabf56573fe9d7c79be5f...  2017-04-07  0.936665   \n",
       "2  0000099d6bd597052cdcda90ffabf56573fe9d7c79be5f...  2017-05-28  0.954180   \n",
       "3  0000099d6bd597052cdcda90ffabf56573fe9d7c79be5f...  2017-06-13  0.960384   \n",
       "4  0000099d6bd597052cdcda90ffabf56573fe9d7c79be5f...  2017-07-16  0.947248   \n",
       "\n",
       "   D_39       B_1       B_2       R_1       S_3  D_41       B_3  ...  D_136  \\\n",
       "0     0  0.008724  1.006838  0.009228  0.124035   0.0  0.004709  ...     -1   \n",
       "1     0  0.004923  1.000653  0.006151  0.126750   0.0  0.002714  ...     -1   \n",
       "2     3  0.021655  1.009672  0.006815  0.123977   0.0  0.009423  ...     -1   \n",
       "3     0  0.013683  1.002700  0.001373  0.117169   0.0  0.005531  ...     -1   \n",
       "4     0  0.015193  1.000727  0.007605  0.117325   0.0  0.009312  ...     -1   \n",
       "\n",
       "   D_137  D_138  D_139  D_140  D_141  D_142  D_143     D_144  D_145  \n",
       "0     -1     -1      0      0    0.0    NaN      0  0.000610      0  \n",
       "1     -1     -1      0      0    0.0    NaN      0  0.005492      0  \n",
       "2     -1     -1      0      0    0.0    NaN      0  0.006986      0  \n",
       "3     -1     -1      0      0    0.0    NaN      0  0.006527      0  \n",
       "4     -1     -1      0      0    0.0    NaN      0  0.008126      0  \n",
       "\n",
       "[5 rows x 190 columns]"
      ]
     },
     "execution_count": 4,
     "metadata": {},
     "output_type": "execute_result"
    }
   ],
   "source": [
    "train.head()"
   ]
  },
  {
   "cell_type": "code",
   "execution_count": 5,
   "id": "ce798faf",
   "metadata": {
    "execution": {
     "iopub.execute_input": "2022-08-20T04:41:16.940552Z",
     "iopub.status.busy": "2022-08-20T04:41:16.940102Z",
     "iopub.status.idle": "2022-08-20T04:41:16.945658Z",
     "shell.execute_reply": "2022-08-20T04:41:16.944379Z"
    },
    "papermill": {
     "duration": 0.014388,
     "end_time": "2022-08-20T04:41:16.948093",
     "exception": false,
     "start_time": "2022-08-20T04:41:16.933705",
     "status": "completed"
    },
    "tags": []
   },
   "outputs": [],
   "source": [
    "# 5,531,451개의 열\n",
    "# 191개의 feature값\n",
    "# 178개의 cloumns\n",
    "# 1개의 datetime columns, 2017-03-01 부터 2018-03-31 까지의 데이터\n",
    "# 고유 고객의 수는 458,913명이다.\n",
    "# database에 있는 시간이 짧은 고객이 이탈할 가능성이 더 높다."
   ]
  },
  {
   "cell_type": "code",
   "execution_count": 6,
   "id": "63ab29de",
   "metadata": {
    "execution": {
     "iopub.execute_input": "2022-08-20T04:41:16.962659Z",
     "iopub.status.busy": "2022-08-20T04:41:16.959943Z",
     "iopub.status.idle": "2022-08-20T04:41:19.494669Z",
     "shell.execute_reply": "2022-08-20T04:41:19.493245Z"
    },
    "papermill": {
     "duration": 2.544165,
     "end_time": "2022-08-20T04:41:19.497474",
     "exception": false,
     "start_time": "2022-08-20T04:41:16.953309",
     "status": "completed"
    },
    "tags": []
   },
   "outputs": [],
   "source": [
    "train =  (train\n",
    "            .groupby('customer_ID')\n",
    "            .tail(1)\n",
    "            .set_index('customer_ID', drop=True)\n",
    "            .sort_index()\n",
    "            .drop(['S_2'], axis='columns'))"
   ]
  },
  {
   "cell_type": "code",
   "execution_count": 7,
   "id": "ed98182a",
   "metadata": {
    "execution": {
     "iopub.execute_input": "2022-08-20T04:41:19.509608Z",
     "iopub.status.busy": "2022-08-20T04:41:19.508745Z",
     "iopub.status.idle": "2022-08-20T04:41:32.691685Z",
     "shell.execute_reply": "2022-08-20T04:41:32.690436Z"
    },
    "papermill": {
     "duration": 13.192103,
     "end_time": "2022-08-20T04:41:32.694571",
     "exception": false,
     "start_time": "2022-08-20T04:41:19.502468",
     "status": "completed"
    },
    "tags": []
   },
   "outputs": [],
   "source": [
    "train = pd.merge(train, labels, how=\"left\", on=\"customer_ID\")"
   ]
  },
  {
   "cell_type": "code",
   "execution_count": 8,
   "id": "c45e11af",
   "metadata": {
    "execution": {
     "iopub.execute_input": "2022-08-20T04:41:32.708492Z",
     "iopub.status.busy": "2022-08-20T04:41:32.707391Z",
     "iopub.status.idle": "2022-08-20T04:41:32.716876Z",
     "shell.execute_reply": "2022-08-20T04:41:32.715796Z"
    },
    "papermill": {
     "duration": 0.019144,
     "end_time": "2022-08-20T04:41:32.719585",
     "exception": false,
     "start_time": "2022-08-20T04:41:32.700441",
     "status": "completed"
    },
    "tags": []
   },
   "outputs": [
    {
     "data": {
      "text/plain": [
       "(458913, 190)"
      ]
     },
     "execution_count": 8,
     "metadata": {},
     "output_type": "execute_result"
    }
   ],
   "source": [
    "train.shape"
   ]
  },
  {
   "cell_type": "code",
   "execution_count": 9,
   "id": "cce17507",
   "metadata": {
    "execution": {
     "iopub.execute_input": "2022-08-20T04:41:32.733311Z",
     "iopub.status.busy": "2022-08-20T04:41:32.732897Z",
     "iopub.status.idle": "2022-08-20T04:41:32.737345Z",
     "shell.execute_reply": "2022-08-20T04:41:32.736240Z"
    },
    "papermill": {
     "duration": 0.014294,
     "end_time": "2022-08-20T04:41:32.739992",
     "exception": false,
     "start_time": "2022-08-20T04:41:32.725698",
     "status": "completed"
    },
    "tags": []
   },
   "outputs": [],
   "source": [
    "all_cols = train.columns.to_list()"
   ]
  },
  {
   "cell_type": "code",
   "execution_count": 10,
   "id": "84e150ed",
   "metadata": {
    "execution": {
     "iopub.execute_input": "2022-08-20T04:41:32.754362Z",
     "iopub.status.busy": "2022-08-20T04:41:32.753375Z",
     "iopub.status.idle": "2022-08-20T04:41:32.759041Z",
     "shell.execute_reply": "2022-08-20T04:41:32.757838Z"
    },
    "papermill": {
     "duration": 0.015571,
     "end_time": "2022-08-20T04:41:32.761637",
     "exception": false,
     "start_time": "2022-08-20T04:41:32.746066",
     "status": "completed"
    },
    "tags": []
   },
   "outputs": [],
   "source": [
    "cat_cols = ['B_30', 'B_38', 'D_114', 'D_116', 'D_117', 'D_120', 'D_126', 'D_63', 'D_64', 'D_66', 'D_68']"
   ]
  },
  {
   "cell_type": "code",
   "execution_count": 11,
   "id": "e17afe6c",
   "metadata": {
    "execution": {
     "iopub.execute_input": "2022-08-20T04:41:32.774171Z",
     "iopub.status.busy": "2022-08-20T04:41:32.773534Z",
     "iopub.status.idle": "2022-08-20T04:41:32.778452Z",
     "shell.execute_reply": "2022-08-20T04:41:32.777565Z"
    },
    "papermill": {
     "duration": 0.014729,
     "end_time": "2022-08-20T04:41:32.781425",
     "exception": false,
     "start_time": "2022-08-20T04:41:32.766696",
     "status": "completed"
    },
    "tags": []
   },
   "outputs": [],
   "source": [
    "num_cols = [col for col in all_cols if col not in cat_cols + [\"target\"]]"
   ]
  }
 ],
 "metadata": {
  "kernelspec": {
   "display_name": "Python 3",
   "language": "python",
   "name": "python3"
  },
  "language_info": {
   "codemirror_mode": {
    "name": "ipython",
    "version": 3
   },
   "file_extension": ".py",
   "mimetype": "text/x-python",
   "name": "python",
   "nbconvert_exporter": "python",
   "pygments_lexer": "ipython3",
   "version": "3.7.12"
  },
  "papermill": {
   "default_parameters": {},
   "duration": 47.231975,
   "end_time": "2022-08-20T04:41:34.129664",
   "environment_variables": {},
   "exception": null,
   "input_path": "__notebook__.ipynb",
   "output_path": "__notebook__.ipynb",
   "parameters": {},
   "start_time": "2022-08-20T04:40:46.897689",
   "version": "2.3.4"
  }
 },
 "nbformat": 4,
 "nbformat_minor": 5
}
