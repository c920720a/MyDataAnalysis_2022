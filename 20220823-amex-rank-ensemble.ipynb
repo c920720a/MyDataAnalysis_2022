{
 "cells": [
  {
   "cell_type": "code",
   "execution_count": 1,
   "id": "d202566c",
   "metadata": {
    "execution": {
     "iopub.execute_input": "2022-08-23T02:37:01.590234Z",
     "iopub.status.busy": "2022-08-23T02:37:01.588553Z",
     "iopub.status.idle": "2022-08-23T02:37:01.606326Z",
     "shell.execute_reply": "2022-08-23T02:37:01.605167Z"
    },
    "papermill": {
     "duration": 0.02889,
     "end_time": "2022-08-23T02:37:01.611253",
     "exception": false,
     "start_time": "2022-08-23T02:37:01.582363",
     "status": "completed"
    },
    "tags": []
   },
   "outputs": [],
   "source": [
    "import numpy as np\n",
    "import pandas as pd\n",
    "import glob"
   ]
  },
  {
   "cell_type": "code",
   "execution_count": 2,
   "id": "e7232314",
   "metadata": {
    "execution": {
     "iopub.execute_input": "2022-08-23T02:37:01.622351Z",
     "iopub.status.busy": "2022-08-23T02:37:01.621246Z",
     "iopub.status.idle": "2022-08-23T02:37:01.641841Z",
     "shell.execute_reply": "2022-08-23T02:37:01.640167Z"
    },
    "papermill": {
     "duration": 0.029277,
     "end_time": "2022-08-23T02:37:01.645641",
     "exception": false,
     "start_time": "2022-08-23T02:37:01.616364",
     "status": "completed"
    },
    "tags": []
   },
   "outputs": [
    {
     "data": {
      "text/plain": [
       "['../input/amex-base-model/20220816_amex_lightbgm_submission(0.787).csv',\n",
       " '../input/amex-base-model/20220820_amex_catboost_submission(0.784).csv',\n",
       " '../input/amex-base-model/20220812_amex_xgboost_submission(0.764).csv']"
      ]
     },
     "execution_count": 2,
     "metadata": {},
     "output_type": "execute_result"
    }
   ],
   "source": [
    "paths = [x for x in glob.glob('../input/*/*.csv') if 'amex-default-prediction' not in x]\n",
    "paths"
   ]
  },
  {
   "cell_type": "code",
   "execution_count": 3,
   "id": "41c21d26",
   "metadata": {
    "execution": {
     "iopub.execute_input": "2022-08-23T02:37:01.656091Z",
     "iopub.status.busy": "2022-08-23T02:37:01.654953Z",
     "iopub.status.idle": "2022-08-23T02:37:01.661530Z",
     "shell.execute_reply": "2022-08-23T02:37:01.660282Z"
    },
    "papermill": {
     "duration": 0.014337,
     "end_time": "2022-08-23T02:37:01.663944",
     "exception": false,
     "start_time": "2022-08-23T02:37:01.649607",
     "status": "completed"
    },
    "tags": []
   },
   "outputs": [],
   "source": [
    "weights = [0.9, 1, 0.8]"
   ]
  },
  {
   "cell_type": "code",
   "execution_count": 4,
   "id": "b0f2ff2f",
   "metadata": {
    "execution": {
     "iopub.execute_input": "2022-08-23T02:37:01.673305Z",
     "iopub.status.busy": "2022-08-23T02:37:01.672377Z",
     "iopub.status.idle": "2022-08-23T02:37:10.537779Z",
     "shell.execute_reply": "2022-08-23T02:37:10.536486Z"
    },
    "papermill": {
     "duration": 8.873897,
     "end_time": "2022-08-23T02:37:10.541281",
     "exception": false,
     "start_time": "2022-08-23T02:37:01.667384",
     "status": "completed"
    },
    "tags": []
   },
   "outputs": [],
   "source": [
    "dfs = [pd.read_csv(x) for x in paths]\n",
    "dfs = [x.sort_values(by='customer_ID') for x in dfs]"
   ]
  },
  {
   "cell_type": "code",
   "execution_count": 5,
   "id": "1bccd1fa",
   "metadata": {
    "execution": {
     "iopub.execute_input": "2022-08-23T02:37:10.549611Z",
     "iopub.status.busy": "2022-08-23T02:37:10.548787Z",
     "iopub.status.idle": "2022-08-23T02:37:10.602827Z",
     "shell.execute_reply": "2022-08-23T02:37:10.601630Z"
    },
    "papermill": {
     "duration": 0.06169,
     "end_time": "2022-08-23T02:37:10.606210",
     "exception": false,
     "start_time": "2022-08-23T02:37:10.544520",
     "status": "completed"
    },
    "tags": []
   },
   "outputs": [],
   "source": [
    "for df in dfs:\n",
    "    df['prediction'] = np.clip(df['prediction'], 0, 1)"
   ]
  },
  {
   "cell_type": "code",
   "execution_count": 6,
   "id": "faccf21d",
   "metadata": {
    "execution": {
     "iopub.execute_input": "2022-08-23T02:37:10.614205Z",
     "iopub.status.busy": "2022-08-23T02:37:10.613705Z",
     "iopub.status.idle": "2022-08-23T02:37:16.042050Z",
     "shell.execute_reply": "2022-08-23T02:37:16.040842Z"
    },
    "papermill": {
     "duration": 5.435866,
     "end_time": "2022-08-23T02:37:16.045171",
     "exception": false,
     "start_time": "2022-08-23T02:37:10.609305",
     "status": "completed"
    },
    "tags": []
   },
   "outputs": [],
   "source": [
    "submit = pd.read_csv('../input/amex-default-prediction/sample_submission.csv')\n",
    "submit['prediction'] = 0\n",
    "\n",
    "for df, weight in zip(dfs, weights):\n",
    "    submit['prediction'] += (df['prediction'] * weight)\n",
    "    \n",
    "submit['prediction'] /= np.sum(weights)\n",
    "\n",
    "submit.to_csv('mean_submission.csv', index=None)"
   ]
  },
  {
   "cell_type": "code",
   "execution_count": 7,
   "id": "319187b7",
   "metadata": {
    "execution": {
     "iopub.execute_input": "2022-08-23T02:37:16.054378Z",
     "iopub.status.busy": "2022-08-23T02:37:16.053200Z",
     "iopub.status.idle": "2022-08-23T02:37:22.476025Z",
     "shell.execute_reply": "2022-08-23T02:37:22.474758Z"
    },
    "papermill": {
     "duration": 6.43051,
     "end_time": "2022-08-23T02:37:22.479125",
     "exception": false,
     "start_time": "2022-08-23T02:37:16.048615",
     "status": "completed"
    },
    "tags": []
   },
   "outputs": [],
   "source": [
    "submit = pd.read_csv('../input/amex-default-prediction/sample_submission.csv')\n",
    "submit['prediction'] = 0\n",
    "\n",
    "from scipy.stats import rankdata\n",
    "\n",
    "for df, weight in zip(dfs, weights):\n",
    "    submit['prediction'] += (rankdata(df['prediction'])/df.shape[0]) * weight\n",
    "    \n",
    "submit['prediction'] /= 3\n",
    "\n",
    "submit.to_csv('submission.csv', index=None)"
   ]
  }
 ],
 "metadata": {
  "kernelspec": {
   "display_name": "Python 3",
   "language": "python",
   "name": "python3"
  },
  "language_info": {
   "codemirror_mode": {
    "name": "ipython",
    "version": 3
   },
   "file_extension": ".py",
   "mimetype": "text/x-python",
   "name": "python",
   "nbconvert_exporter": "python",
   "pygments_lexer": "ipython3",
   "version": "3.7.12"
  },
  "papermill": {
   "default_parameters": {},
   "duration": 31.80164,
   "end_time": "2022-08-23T02:37:23.606778",
   "environment_variables": {},
   "exception": null,
   "input_path": "__notebook__.ipynb",
   "output_path": "__notebook__.ipynb",
   "parameters": {},
   "start_time": "2022-08-23T02:36:51.805138",
   "version": "2.3.4"
  }
 },
 "nbformat": 4,
 "nbformat_minor": 5
}
